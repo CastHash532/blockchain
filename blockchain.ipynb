{
 "cells": [
  {
   "cell_type": "code",
   "execution_count": 16,
   "metadata": {},
   "outputs": [],
   "source": [
    "# in this notebook we are going to implement a simple blockchain\n",
    "\n",
    "import hashlib\n",
    "import datetime\n",
    "import pprint\n",
    "\n",
    "class Block:\n",
    "    def __init__(self, data, previous_block= None):\n",
    "        self.author = \"CastHash532\"\n",
    "        self.timestamp = datetime.datetime.now()\n",
    "        self.data = data\n",
    "        self.previous_hash = previous_block.hash if previous_block else \"0\"\n",
    "        self.difficulty = (previous_block.difficulty + 1)%10 if previous_block else 0\n",
    "        self.hash = self.calc_hash()\n",
    "\n",
    "    def sha_with_nonce(self, nonce):\n",
    "        sha = hashlib.sha256()\n",
    "        sha.update(str(nonce).encode('utf-8')\n",
    "                 + str(self.author).encode('utf-8')\n",
    "                 + str(self.timestamp).encode(\"utf-8\")     \n",
    "                 + str(self.data).encode(\"utf-8\")\n",
    "                 + str(self.previous_hash).encode(\"utf-8\"))\n",
    "        return sha.hexdigest()\n",
    "    \n",
    "    def calc_hash(self):\n",
    "        nonce = 0\n",
    "        while True:\n",
    "            block_hash = self.sha_with_nonce(nonce)\n",
    "            if block_hash[:self.difficulty] == \"0\" * self.difficulty:\n",
    "                return block_hash\n",
    "            nonce += 1\n",
    "            \n",
    "    \n",
    "    def __str__(self):\n",
    "        return \"Block: \" + str(self.hash) + \" \" + str(self.author) + \" \" + str(self.timestamp) + \" \" + str(self.data) +  \" \" + str(self.difficulty)\n",
    "\n",
    "    def first(data=\"Genesis\"):\n",
    "        return Block(data)\n",
    "\n",
    "    def next(block, data):\n",
    "        return Block(data, block)\n"
   ]
  },
  {
   "cell_type": "code",
   "execution_count": 17,
   "metadata": {},
   "outputs": [],
   "source": [
    "b0 = Block.first()\n",
    "b1 = Block.next(b0, \"Block 1\")\n",
    "b2 = Block.next(b1, \"Block 2\")\n",
    "b3 = Block.next(b2, \"Block 3\")\n",
    "b4 = Block.next(b3, \"Block 4\")\n",
    "b5 = Block.next(b4, \"Block 5\")"
   ]
  },
  {
   "cell_type": "code",
   "execution_count": 18,
   "metadata": {},
   "outputs": [
    {
     "name": "stdout",
     "output_type": "stream",
     "text": [
      "['Block: f9e947f53cb5e76fa4480e7efcad006c2e565f05590a444ceb9e6fec4df3101e '\n",
      " 'CastHash532 2022-02-11 15:04:15.306121 Genesis 0',\n",
      " 'Block: 0c108e83cca98650a69cf9e543210fad3175fa6162dadafe2f14ea84b838d4e4 '\n",
      " 'CastHash532 2022-02-11 15:04:15.306248 Block 1 1',\n",
      " 'Block: 00e8d356b08759016881bf928fc3a2ccfbbf15f476ac9ec4e7bc5debc51d141d '\n",
      " 'CastHash532 2022-02-11 15:04:15.306373 Block 2 2',\n",
      " 'Block: 000db5d6107763bebec16cf33bc243f0ed46c15b5ba155676997c6d82e3f7b46 '\n",
      " 'CastHash532 2022-02-11 15:04:15.309077 Block 3 3',\n",
      " 'Block: 0000777c0a6ef9b8bfc6cd623890894f971d336a32eebfb4270620a4a1e5b167 '\n",
      " 'CastHash532 2022-02-11 15:04:15.320337 Block 4 4',\n",
      " 'Block: 00000b8e9d2854fe6d11743ea4d89c2a85c3e4a2f345ac4f2d757dba8f3d4eef '\n",
      " 'CastHash532 2022-02-11 15:04:15.399187 Block 5 5']\n"
     ]
    }
   ],
   "source": [
    "blocks = [b0 , b1, b2, b3, b4, b5]\n",
    "pprint.pprint(list(map(str, blocks)))"
   ]
  }
 ],
 "metadata": {
  "interpreter": {
   "hash": "d4d1e4263499bec80672ea0156c357c1ee493ec2b1c70f0acce89fc37c4a6abe"
  },
  "kernelspec": {
   "display_name": "Python 3.9.7 ('base')",
   "language": "python",
   "name": "python3"
  },
  "language_info": {
   "codemirror_mode": {
    "name": "ipython",
    "version": 3
   },
   "file_extension": ".py",
   "mimetype": "text/x-python",
   "name": "python",
   "nbconvert_exporter": "python",
   "pygments_lexer": "ipython3",
   "version": "3.8.12"
  },
  "orig_nbformat": 4
 },
 "nbformat": 4,
 "nbformat_minor": 2
}
